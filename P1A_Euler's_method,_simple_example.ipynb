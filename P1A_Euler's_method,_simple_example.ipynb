{
  "nbformat": 4,
  "nbformat_minor": 0,
  "metadata": {
    "colab": {
      "name": "P1A - Euler's method, simple example.ipynb",
      "provenance": [],
      "private_outputs": true,
      "collapsed_sections": []
    },
    "kernelspec": {
      "name": "python3",
      "display_name": "Python 3"
    }
  },
  "cells": [
    {
      "cell_type": "markdown",
      "metadata": {
        "id": "G2ecf0AUe_WJ",
        "colab_type": "text"
      },
      "source": [
        "#Practical 1A#\n",
        "#Numerical integration by Euler's method - a simple example#\n",
        "\n",
        "##General idea of numerical integration by Euler's method##\n",
        "\n",
        "Calculus is a mathematical language for describing things that change smoothly with time, such as the membrane potential.\n",
        "\n",
        "Recall that $\\frac{dx}{dt}$ has the meaning of rate of change of $x$, and is the instantaneous slope or velocity in a graph of $x(t)$ versus $t$. \n",
        "\n",
        "Suppose we are given the differential equation that governs the rate of change of $x$, and the initial value of x:\n",
        "\\begin{align}\n",
        "\\frac{dx}{dt} &= f(t) \\tag{1} \\\\\n",
        "x(t=0) &= x_{0} \\tag{2}\n",
        "\\end{align}\n",
        "\n",
        "We would like to integrate Eqn (1) to obtain the time course $x(t)$ explicitly.  \n",
        "\n",
        "If $f(t)$ is complicated, we may not know how to integrate the equation analytically. Instead, we have to use a computer to **numerically integrate** it.\n",
        "\n",
        "Since a computer uses discrete time steps, we have to get from the differential equation, which relies on continuous time, to computations to be performed in discrete steps. \n",
        "\n",
        "The key idea in Euler's method of numerical integration is to understand $dx$ as a difference in $x$, and $dt$ as a difference or step in time, with the approximation becoming increasingly exact with smaller time steps:\n",
        "\\begin{align}\n",
        "dx &\\approx \\Delta x = x(t+\\Delta t)- x(t) \\tag{3} \\\\\n",
        "dt &\\approx \\Delta t \\tag{4}\n",
        "\\end{align}\n",
        "\n",
        "Starting with Eqn (1) then substituting  using Eqn (3) and (4):\n",
        "\\begin{align}\n",
        "\\frac{dx}{dt}                         &= f(t) \\\\\n",
        "\\frac{(x(t+\\Delta t)-x(t))}{\\Delta t} &\\approx f(t) \\\\\n",
        "(x(t+\\Delta t)-x(t))                  &\\approx f(t) \\ \\Delta t \\\\\n",
        "x(t+\\Delta t)                         &\\approx f(t) \\ \\Delta t + x(t) \\tag{5}  \n",
        "\\end{align}\n",
        "\n",
        "Eqn (5) is important because it tells us how to use quantities at any particular time step $t$ (on the right-hand side) to calculate the value of x at the next time step $t + \\Delta t$ (on the left-hand side).  So given an initial value of $x$ as in Eqn (2), we can iteratively calculate future values of $x$ and thus obtain its time course. This is numerical integration. In this practical, we will get the computer to do the iterative calculation for us. \n"
      ]
    },
    {
      "cell_type": "markdown",
      "metadata": {
        "id": "7nA8MJ_xoWYQ",
        "colab_type": "text"
      },
      "source": [
        "##Example using the exponential function##\n",
        "\n",
        "Here we will consider the simple case:\n",
        "$f(t) = x(t) \\tag{6}$\n",
        "\n",
        "To completely specify the problem, we also need to specify the initial value of $x$.  \n",
        "\n",
        "So the problem we wish to solve is to find $x(t)$ given: \n",
        "\\begin{align}\n",
        "\\frac{dx}{dt} &= x \\tag{7} \\\\\n",
        "x(t=0) &= 5 \\tag{8}\n",
        "\\end{align}\n",
        "\n",
        "From the lecture, we know how to analytically obtain the exact answer. There is no need to use a computer to do numerical integration. However, we can use this simple case to check that the approximate answer from numerical integration with the computer approaches the exact answer as the time steps taken by the computer become smaller."
      ]
    },
    {
      "cell_type": "markdown",
      "metadata": {
        "id": "J0W5Hpdl_msk",
        "colab_type": "text"
      },
      "source": [
        "##Exact solution by analytical integration##\n",
        "\n",
        "The derivative of the exponential function is itself. Thus the general solution to Eqn (7) is:\n",
        "$x(t) = A\\exp(t) \\tag{9}$\n",
        "\n",
        "To determine the value of $A$, we require the value of $x$ at $t=0$ in Eqn (9) and Eqn (8) match:\n",
        "\\begin{equation}\n",
        "x(t=0) = A\\exp(0) = 5 \\implies A=5\n",
        "\\end{equation}\n",
        "\n",
        "Thus the exact solution to Eqn (7) and (8) is \n",
        "$x(t) = 5\\exp(t) \\tag{10}$\n",
        "\n",
        "The following code implements the exact solution of Eqn (10). \n",
        "\n",
        "Time values increase from 0 to 1 in steps of size dt. \n",
        "\n",
        "We have initially set dt = 0.1 (ms), but you will be later asked to change the value of dt. \n",
        "\n",
        "The exact solution of Eqn (10) is contained in the variable xa.\n",
        "\n",
        "**Run the following code cell by pressing the \"play\" button in the left margin.**"
      ]
    },
    {
      "cell_type": "code",
      "metadata": {
        "id": "Dq_F_KySWEh4",
        "colab_type": "code",
        "colab": {}
      },
      "source": [
        "import numpy as np\n",
        "import matplotlib.pyplot as plt\n",
        "\n",
        "dt = 0.1 # time step (ms) for numerical integration\n",
        "time=np.arange(0,1,dt) # time values increase from 0 to 1 in steps of size dt.\n",
        "\n",
        "# xa is the exact solution of Eqn (9)    \n",
        "xa = np.zeros(time.size)\n",
        "xa = 5*np.exp(time)"
      ],
      "execution_count": null,
      "outputs": []
    },
    {
      "cell_type": "markdown",
      "metadata": {
        "id": "ujzNCJvvDbTJ",
        "colab_type": "text"
      },
      "source": [
        "##Approximate solution by numerical integration##\n",
        "\n",
        "Combining Eqn (6) with Eqn (5), we get\n",
        "$x(t+\\Delta t) \\approx x(t) \\ \\Delta t + x(t) \\tag{11}$\n",
        "\n",
        "The following code uses Eqn (11) to obtain an approximate solution xn. \n",
        "\n",
        "Remember that we have specified dt in the previous code cell.\n",
        "\n",
        "Time steps are indexed by the variable k.\n",
        "\n",
        "We use Eqn (11) iteratively to obtain the values of xn at successive time steps k.\n",
        "\n",
        "Finally we plot both the exact solution (in red) and the approximate solution obtained by numerical integration (in blue).\n",
        "\n",
        "**Run the following code cell by pressing the \"play\" button in the left margin.**"
      ]
    },
    {
      "cell_type": "code",
      "metadata": {
        "id": "8K9aB3VAAv52",
        "colab_type": "code",
        "colab": {}
      },
      "source": [
        "# x_n is the numerical solution\n",
        "xn = np.zeros(time.size)\n",
        "xn[0] = 5 # Specify the value of x at time step 0\n",
        "for k in range(1,time.size): # Iterate from k=1 to k = total number of time steps\n",
        "    xn[k] = xn[k-1]*dt + xn[k-1] # code implenting Eqn (11) \n",
        "\n",
        "fig1 = plt.figure()\n",
        "plt.plot(time, xa, 'r', linewidth=4,)\n",
        "plt.plot(time, xn, 'b', linewidth=2)\n",
        "plt.legend(['Exact solution','Numerical integration'])\n",
        "plt.xlabel('time')\n",
        "plt.ylabel('x')\n",
        "plt.show()"
      ],
      "execution_count": null,
      "outputs": []
    },
    {
      "cell_type": "markdown",
      "metadata": {
        "id": "t9ud2AOSOXcJ",
        "colab_type": "text"
      },
      "source": [
        "##**Exercise**##\n",
        "\n",
        "**Change the value of dt in the above code.**\n",
        "\n",
        "**Re-run the code** (you can re-run every code cell individually, or go to the \"Runtime\" dropdown menu and choose \"Run all\").\n",
        "\n",
        "**Observe that as you make dt smaller, the approximate solution approaches the exact solution.**"
      ]
    }
  ]
}