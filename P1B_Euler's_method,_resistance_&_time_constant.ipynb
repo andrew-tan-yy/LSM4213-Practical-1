{
  "nbformat": 4,
  "nbformat_minor": 0,
  "metadata": {
    "colab": {
      "name": "P1B - Euler's method, resistance & time constant.ipynb",
      "provenance": [],
      "private_outputs": true,
      "collapsed_sections": []
    },
    "kernelspec": {
      "name": "python3",
      "display_name": "Python 3"
    }
  },
  "cells": [
    {
      "cell_type": "markdown",
      "metadata": {
        "id": "r-aVlO1VBWk9",
        "colab_type": "text"
      },
      "source": [
        "#Practical 1B#\n",
        "#Euler's Method, membrane resistance and membrane time constant#\n",
        "\n",
        "In Practical 1A, we performed numerical integration on a simple example. Here we will perform numerical integration on a more biologically relevant example.\n",
        "\n",
        "A simple model for describing how a neuron's membrane potential responds to current injection is:\n",
        "$\\frac{dV}{dt} = \\frac{1}{\\tau}[-(V - E_{l}) + R_{m} I_{inj}] \\tag{1}$\n",
        "\n",
        "where $V$ is the membrane potential, $t$ is time, $\\tau$ is the membrane time constant, $E_{l}$ is the resting membrane potential, $R_{m}$ is the membrane resistance, and $I_{inj}$ is the injected current.\n",
        "\n",
        "In this example we inject a current with a complicated time course so that Eqn (1) is not so easy to analytically integrate, and numerical integration is useful to obtain the time course of the membrane potential.\n",
        "\n",
        "The following code sets up time values and the injected current.\n",
        "\n",
        "Time values increase from 0 to 4000 (ms) in steps of size dt = 0.1 (ms).\n",
        "\n",
        "The injected current Iinj consists of a square pulse, a triangular pulse and a sinusoidal pulse in succession.\n",
        "\n",
        "**Run the following code cell by pressing the \"play\" button in the left margin.**"
      ]
    },
    {
      "cell_type": "code",
      "metadata": {
        "id": "ZsYmBUoLQV9I",
        "colab_type": "code",
        "colab": {}
      },
      "source": [
        "import numpy as np\n",
        "import matplotlib.pyplot as plt\n",
        "\n",
        "dt = 0.1 # time step (ms) for numerical integration\n",
        "time=np.arange(0,4000,dt)\n",
        "# Inject a 0.100 nA current pulse for 500 ms\n",
        "# The current pulse begins at 500 ms and ends at 1000 ms\n",
        "Iinj = np.zeros(time.size)\n",
        "# Make square pulse\n",
        "Iinj[int(round(500.0/dt)):int(round(1000.0/dt))] = 0.100\n",
        "# Make triangular pulse rising phase\n",
        "x = np.linspace(round(1500.0/dt),round(2000.0/dt),round(500/dt))\n",
        "Iinj[int(round(1500.0/dt)):int(round(2000.0/dt))] = \\\n",
        "    np.interp(x,[round(1500.0/dt),round(2000.0/dt)],[0.0,0.1]) \n",
        "# Make triangular pulse falling phase    \n",
        "x = np.linspace(round(2000.0/dt),round(2500.0/dt),round(500/dt))\n",
        "Iinj[int(round(2000.0/dt)):int(round(2500.0/dt))] = \\\n",
        "   np.interp(x,[round(2000.0/dt),round(2500.0/dt)],[0.1,0.0])\n",
        "# Make sinusoid \n",
        "f = 0.004 # sinusoid frequency in cycles per ms\n",
        "x = np.linspace(3000.0,3500.0,round(500/dt))\n",
        "Iinj[int(round(3000.0/dt)):int(round(3500.0/dt))] = 0.1*np.sin(2*np.pi*f*x)"
      ],
      "execution_count": null,
      "outputs": []
    },
    {
      "cell_type": "markdown",
      "metadata": {
        "id": "w5AD-uNm0XkS",
        "colab_type": "text"
      },
      "source": [
        "Next let us specify the values of the membrane time constant (tau), the resting membrane potential (El), and the membrane resistance (rm).\n",
        "\n",
        "We also set the value of the initial membrane potential (vm[0]).\n",
        "\n",
        "**Run the following code cell by pressing the \"play\" button in the left margin.** "
      ]
    },
    {
      "cell_type": "code",
      "metadata": {
        "id": "RC4dmgpm_VpN",
        "colab_type": "code",
        "colab": {}
      },
      "source": [
        "tau = 50.0 # membrane time constant (ms)\n",
        "El = -70.0 # resting membrane potential (mV)\n",
        "rm = 100.0 # membrane resistance (megaohm)\n",
        "\n",
        "# Assign a variable to represent membrane potential\n",
        "vm = np.zeros(time.size)\n",
        "vm[0] = -70.0 # Set the initial membrane potential (mV)"
      ],
      "execution_count": null,
      "outputs": []
    },
    {
      "cell_type": "markdown",
      "metadata": {
        "id": "Z30Nsjl7AGAg",
        "colab_type": "text"
      },
      "source": [
        "As before, the key idea in Euler's method of numerical integration is to understand $dV$ as a difference in $V$, and $dt$ as a difference or step in time, with the approximation becoming increasingly exact with smaller time steps:\n",
        "\n",
        "\\begin{align}\n",
        "dV &\\approx \\Delta V = V(t+\\Delta t)- V(t) \\tag{2} \\\\\n",
        "dt &\\approx \\Delta t \\tag{3}\n",
        "\\end{align}\n",
        "\n",
        "Starting with Eqn (1) then substituting  using Eqn (2) and (3):\n",
        "\n",
        "\\begin{align}\n",
        "\\frac{dV}{dt}                         &= \\frac{1}{\\tau}[-(V(t) - E_{l}) + R_{m} I_{inj}(t)] \\\\\n",
        "\\frac{(V(t+\\Delta t)-V(t))}{\\Delta t} &\\approx \\frac{1}{\\tau}[-(V(t) - E_{l}) + R_{m} I_{inj}(t)] \\\\\n",
        "(V(t+\\Delta t)-V(t))                  &\\approx \\frac{1}{\\tau}[-(V(t) - E_{l}) + R_{m} I_{inj}(t)] \\ \\Delta t \\\\\n",
        "V(t+\\Delta t)                         &\\approx \\frac{1}{\\tau}[-(V(t) - E_{l}) + R_{m} I_{inj}(t)] \\ \\Delta t + V(t) \\tag{4}  \n",
        "\\end{align}\n",
        "\n",
        "The following code iteratively uses Eqn (4) to obtain an approximation to the membrane potential time course. \n",
        "\n",
        "**Inspect the code below and see, at least intuitively, that it has the same form as Eqn (4)**\n",
        "\n",
        "**Run the following code cell by pressing the \"play\" button in the left margin.**"
      ]
    },
    {
      "cell_type": "code",
      "metadata": {
        "id": "PwViaVf5ob1u",
        "colab_type": "code",
        "colab": {}
      },
      "source": [
        "for n in range(1,time.size): # Iterate from n=1 to the total number of time steps\n",
        "    vm[n] = ((-(vm[n-1] - El) + rm*Iinj[n-1])*dt/tau) + vm[n-1] # code implenting Eqn (4)"
      ],
      "execution_count": null,
      "outputs": []
    },
    {
      "cell_type": "markdown",
      "metadata": {
        "id": "Bjnnth2JEh8o",
        "colab_type": "text"
      },
      "source": [
        "Finally, we plot the injected current and the corresponding membrane potential time course we have just calculated by iteratively using Eqn (4).\n",
        "\n",
        "**Run the following code cell by pressing the \"play\" button in the left margin.**"
      ]
    },
    {
      "cell_type": "code",
      "metadata": {
        "id": "xl9bxnPCEsrr",
        "colab_type": "code",
        "colab": {}
      },
      "source": [
        "fig1 = plt.figure()\n",
        "ax1 = fig1.add_subplot(2,1,1)\n",
        "plt.plot(time,Iinj)\n",
        "plt.xlabel('Time (ms)')\n",
        "plt.ylabel('Injected current (nA)')\n",
        "ax1 = fig1.add_subplot(2,1,2)\n",
        "plt.plot(time,vm)\n",
        "plt.xlabel('Time (ms)')\n",
        "plt.ylabel('Membrane potential (mV)')\n",
        "plt.show()"
      ],
      "execution_count": null,
      "outputs": []
    },
    {
      "cell_type": "markdown",
      "metadata": {
        "id": "oCoQoy25Hh_J",
        "colab_type": "text"
      },
      "source": [
        "**Exercises**\n",
        "\n",
        "**1. Use the plots of injected current and membrane potential and the equation $\\Delta V = R \\Delta I$ (applicable when the injected current is constant, as is approximately the case towards the end of the square pulse of sufficient duration) to calculate the membrane resistance. Check that the value you obtain is the same as specified in the code above.**\n",
        "\n",
        "**2. Make the value of the membrane time constant (tau) in the code above smaller or larger, and observe how the membrane potential changes.** Re-run the code after each change. You can re-run every code cell individually, or go to the \"Runtime\" dropdown menu and choose \"Run all\" **Understand intuitively how these changes are consistent with the notion that when the time constant is larger, the membrane potential changes more slowly, and takes a longer time to reach a steady state.**"
      ]
    }
  ]
}